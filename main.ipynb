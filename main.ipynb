{
 "cells": [
  {
   "cell_type": "code",
   "execution_count": 14,
   "metadata": {},
   "outputs": [
    {
     "name": "stdout",
     "output_type": "stream",
     "text": [
      "<class 'pandas.core.frame.DataFrame'>\n",
      "RangeIndex: 35887 entries, 0 to 35886\n",
      "Data columns (total 3 columns):\n",
      " #   Column   Non-Null Count  Dtype \n",
      "---  ------   --------------  ----- \n",
      " 0   emotion  35887 non-null  int64 \n",
      " 1   pixels   35887 non-null  object\n",
      " 2   Usage    35887 non-null  object\n",
      "dtypes: int64(1), object(2)\n",
      "memory usage: 841.2+ KB\n",
      "None\n",
      "   emotion                                             pixels     Usage\n",
      "0        0  70 80 82 72 58 58 60 63 54 58 60 48 89 115 121...  Training\n",
      "1        0  151 150 147 155 148 133 111 140 170 174 182 15...  Training\n",
      "2        2  231 212 156 164 174 138 161 173 182 200 106 38...  Training\n",
      "3        4  24 32 36 30 32 23 19 20 30 41 21 22 32 34 21 1...  Training\n",
      "4        6  4 0 0 0 0 0 0 0 0 0 0 0 3 15 23 28 48 50 58 84...  Training\n",
      "5        2  55 55 55 55 55 54 60 68 54 85 151 163 170 179 ...  Training\n",
      "6        4  20 17 19 21 25 38 42 42 46 54 56 62 63 66 82 1...  Training\n"
     ]
    }
   ],
   "source": [
    "import torch\n",
    "import torch.nn as nn\n",
    "import torch.optim as optim\n",
    "import torch.nn.functional as F\n",
    "import pandas as pd\n",
    "import numpy as np\n",
    "import matplotlib.pyplot as plt\n",
    "import csv\n",
    "from tqdm import tqdm\n",
    "from datetime import datetime\n",
    "from os import path\n",
    "import os\n",
    "import sklearn\n",
    "from torch.utils.data import DataLoader, TensorDataset, random_split\n",
    "from sklearn.model_selection import train_test_split\n",
    "from sklearn.model_selection import KFold, ParameterGrid\n",
    "from sklearn.metrics import accuracy_score\n",
    "from sklearn.metrics import confusion_matrix\n",
    "from sklearn.model_selection import GridSearchCV\n",
    "\n",
    "data = pd.read_csv('fer2013.csv')\n",
    "pixels = data['pixels'].tolist()\n",
    "width, height = 48, 48\n",
    "faces = []\n",
    "print(data.info())\n",
    "print(data.head(7))\n",
    "\n",
    "for pixel_sequence in pixels:\n",
    "    face = [int(pixel) for pixel in pixel_sequence.split(' ')]\n",
    "    face = np.asarray(face).reshape(width, height)\n",
    "    faces.append(face.astype('float32'))\n",
    "\n",
    "faces = np.asarray(faces)\n",
    "faces = np.expand_dims(faces, -1)\n",
    "\n",
    "# Normalize the pixels\n",
    "faces /= 255.0\n",
    "\n",
    "# Emotion labels\n",
    "emotions = pd.get_dummies(data['emotion']).values\n",
    "\n",
    "# Convert to PyTorch tensors\n",
    "X = torch.tensor(faces, dtype=torch.float32)\n",
    "y = torch.tensor(emotions, dtype=torch.long)\n"
   ]
  },
  {
   "cell_type": "code",
   "execution_count": 10,
   "id": "a8ca0c90",
   "metadata": {},
   "outputs": [],
   "source": [
    "# Définissez les paramètres d'entraînement\n",
    "batch_size = 47\n",
    "lr = 0.001\n",
    "epochs = 10\n",
    "train_losses = []\n",
    "train_accuracies = []\n",
    "val_losses = []\n",
    "val_accuracies = []\n",
    "# Définir la régularisation L2\n",
    "l2_reg = 0.01\n",
    "\n",
    "# Créez une instance de modèle\n",
    "class EmotionRecognitionModel(nn.Module):\n",
    "    def __init__(self, input_dim, hidden_dim, output_dim, dropout):\n",
    "        super(EmotionRecognitionModel, self).__init__()\n",
    "        self.input_dim = input_dim\n",
    "        self.hidden_dim = hidden_dim\n",
    "        self.output_dim = output_dim\n",
    "        self.input_layer = nn.Linear(input_dim, hidden_dim)\n",
    "        self.hidden_layer = nn.Linear(hidden_dim, output_dim)\n",
    "        self.dropout = nn.Dropout(dropout)\n",
    "    \n",
    "    def forward(self, x):\n",
    "        x = x.view(-1, self.input_dim)\n",
    "        x = self.input_layer(x)\n",
    "        x = F.relu(x)\n",
    "        x = self.dropout(x)\n",
    "        x = self.hidden_layer(x)\n",
    "        return x\n",
    "    \n",
    "\n",
    "def fit(model, X_train, y_train, X_val=None, y_val=None, epochs=10, batch_size=32, lr=0.01, verbose=True):\n",
    "    train_dataset = TensorDataset(torch.tensor(X_train.reshape(-1, model.input_dim)), torch.tensor(y_train))\n",
    "    train_loader = DataLoader(train_dataset, batch_size=batch_size, shuffle=True, drop_last=True)\n",
    "    optimizer = torch.optim.Adam(model.parameters(), lr=lr)\n",
    "    criterion = nn.CrossEntropyLoss()\n",
    "    \n",
    "    if X_val is not None and y_val is not None:\n",
    "        val_dataset = TensorDataset(torch.tensor(X_val.reshape(-1, model.input_dim)), torch.tensor(y_val))\n",
    "        val_loader = DataLoader(val_dataset, batch_size=batch_size, shuffle=False, drop_last=True)\n",
    "    \n",
    "    train_loss_history = []\n",
    "    val_loss_history = []\n",
    "    train_acc_history = []\n",
    "    val_acc_history = []\n",
    "    for epoch in tqdm(range(epochs), desc=\"Traitement en cours\", bar_format=\"{l_bar}{bar:10}{r_bar}\"):\n",
    "        # Training loop\n",
    "        train_loss = 0.0\n",
    "        train_acc = 0.0\n",
    "        for X_batch, y_batch in train_loader:\n",
    "            optimizer.zero_grad()\n",
    "            y_pred = model(X_batch.float())\n",
    "            loss = criterion(y_pred, y_batch)\n",
    "            loss.backward()\n",
    "            optimizer.step()\n",
    "            train_loss += loss.item()\n",
    "            train_acc += accuracy_score(y_batch, y_pred.argmax(dim=1))\n",
    "        train_loss /= len(train_loader)\n",
    "        train_acc /= len(train_loader)\n",
    "        train_loss_history.append(train_loss)\n",
    "        train_acc_history.append(train_acc)\n",
    "        \n",
    "        # Validation loop\n",
    "        if X_val is not None and y_val is not None:\n",
    "            val_loss = 0.0\n",
    "            val_acc = 0.0\n",
    "            with torch.no_grad():\n",
    "                for X_batch, y_batch in val_loader:\n",
    "                    y_pred = model(X_batch.float())\n",
    "                    loss = criterion(y_pred, y_batch)\n",
    "                    val_loss += loss.item()\n",
    "                    val_acc += accuracy_score(y_batch, y_pred.argmax(dim=1))\n",
    "                \n",
    "            val_loss /= len(val_loader)\n",
    "            val_acc /= len(val_loader)\n",
    "            val_loss_history.append(val_loss)\n",
    "            val_acc_history.append(val_acc)\n",
    "        \n",
    "        if verbose:\n",
    "            if X_val is not None and y_val is not None:\n",
    "                print(f'Epoch {epoch+1}/{epochs}, \"\\n\", Train Loss: {train_loss:.4f}, Train Accuracy : {train_acc:.4f}, \"\\n\" , Val Loss: {val_loss:.4f}, Val Accuracy : {val_acc:.4f}')\n",
    "            else:\n",
    "                print(f'Epoch {epoch+1}/{epochs}, Train Loss: {train_loss:.4f}')\n",
    "\n",
    "    \n",
    "    if X_val is not None and y_val is not None:\n",
    "        return train_loss_history, train_acc_history, val_loss_history, val_acc_history\n",
    "    else:\n",
    "        return train_loss_history, train_acc_history\n",
    "    \n",
    "def predict(model, X):\n",
    "    dataset = TensorDataset(torch.tensor(X))\n",
    "    loader = DataLoader(dataset, batch_size=32, shuffle=False)\n",
    "    y_pred = []\n",
    "    with torch.no_grad():\n",
    "        for X_batch in loader:\n",
    "            batch_pred = model(X_batch.float())\n",
    "            y_pred.append(batch_pred)\n",
    "    return torch.cat(y_pred, dim=0).numpy()\n"
   ]
  },
  {
   "cell_type": "code",
   "execution_count": 11,
   "id": "ac3a56ae",
   "metadata": {},
   "outputs": [
    {
     "name": "stderr",
     "output_type": "stream",
     "text": [
      "C:\\Users\\Utilisateur\\AppData\\Local\\Temp\\ipykernel_5508\\333657380.py:16: UserWarning: To copy construct from a tensor, it is recommended to use sourceTensor.clone().detach() or sourceTensor.clone().detach().requires_grad_(True), rather than torch.tensor(sourceTensor).\n",
      "  X_train = torch.tensor(X_train.reshape(-1, 2304), dtype=torch.float32) # flatten last three dimensions\n",
      "C:\\Users\\Utilisateur\\AppData\\Local\\Temp\\ipykernel_5508\\333657380.py:17: UserWarning: To copy construct from a tensor, it is recommended to use sourceTensor.clone().detach() or sourceTensor.clone().detach().requires_grad_(True), rather than torch.tensor(sourceTensor).\n",
      "  X_val = torch.tensor(X_val.reshape(-1, 2304), dtype=torch.float32) # flatten last three dimensions\n",
      "C:\\Users\\Utilisateur\\AppData\\Local\\Temp\\ipykernel_5508\\333657380.py:22: UserWarning: To copy construct from a tensor, it is recommended to use sourceTensor.clone().detach() or sourceTensor.clone().detach().requires_grad_(True), rather than torch.tensor(sourceTensor).\n",
      "  y_train = torch.tensor(y_train, dtype=torch.long)\n",
      "C:\\Users\\Utilisateur\\AppData\\Local\\Temp\\ipykernel_5508\\333657380.py:23: UserWarning: To copy construct from a tensor, it is recommended to use sourceTensor.clone().detach() or sourceTensor.clone().detach().requires_grad_(True), rather than torch.tensor(sourceTensor).\n",
      "  y_val = torch.tensor(y_val, dtype=torch.long)\n",
      "C:\\Users\\Utilisateur\\AppData\\Local\\Temp\\ipykernel_5508\\2919936746.py:33: UserWarning: To copy construct from a tensor, it is recommended to use sourceTensor.clone().detach() or sourceTensor.clone().detach().requires_grad_(True), rather than torch.tensor(sourceTensor).\n",
      "  train_dataset = TensorDataset(torch.tensor(X_train.reshape(-1, model.input_dim)), torch.tensor(y_train))\n",
      "C:\\Users\\Utilisateur\\AppData\\Local\\Temp\\ipykernel_5508\\2919936746.py:39: UserWarning: To copy construct from a tensor, it is recommended to use sourceTensor.clone().detach() or sourceTensor.clone().detach().requires_grad_(True), rather than torch.tensor(sourceTensor).\n",
      "  val_dataset = TensorDataset(torch.tensor(X_val.reshape(-1, model.input_dim)), torch.tensor(y_val))\n",
      "Traitement en cours:  10%|█         | 1/10 [01:01<09:17, 61.99s/it]"
     ]
    },
    {
     "name": "stdout",
     "output_type": "stream",
     "text": [
      "Epoch 1/10, \"\n",
      "\", Train Loss: 2.0755, Train Accuracy : 0.2136, \"\n",
      "\" , Val Loss: 2.0168, Val Accuracy : 0.2425\n"
     ]
    },
    {
     "name": "stderr",
     "output_type": "stream",
     "text": [
      "Traitement en cours:  20%|██        | 2/10 [02:31<10:27, 78.40s/it]"
     ]
    },
    {
     "name": "stdout",
     "output_type": "stream",
     "text": [
      "Epoch 2/10, \"\n",
      "\", Train Loss: 1.8912, Train Accuracy : 0.2529, \"\n",
      "\" , Val Loss: 1.8150, Val Accuracy : 0.2610\n"
     ]
    },
    {
     "name": "stderr",
     "output_type": "stream",
     "text": [
      "Traitement en cours:  30%|███       | 3/10 [03:50<09:08, 78.32s/it]"
     ]
    },
    {
     "name": "stdout",
     "output_type": "stream",
     "text": [
      "Epoch 3/10, \"\n",
      "\", Train Loss: 1.7857, Train Accuracy : 0.2833, \"\n",
      "\" , Val Loss: 1.7748, Val Accuracy : 0.2808\n"
     ]
    },
    {
     "name": "stderr",
     "output_type": "stream",
     "text": [
      "Traitement en cours:  40%|████      | 4/10 [05:08<07:49, 78.33s/it]"
     ]
    },
    {
     "name": "stdout",
     "output_type": "stream",
     "text": [
      "Epoch 4/10, \"\n",
      "\", Train Loss: 1.7679, Train Accuracy : 0.2884, \"\n",
      "\" , Val Loss: 1.7587, Val Accuracy : 0.2907\n"
     ]
    },
    {
     "name": "stderr",
     "output_type": "stream",
     "text": [
      "Traitement en cours:  50%|█████     | 5/10 [06:30<06:38, 79.60s/it]"
     ]
    },
    {
     "name": "stdout",
     "output_type": "stream",
     "text": [
      "Epoch 5/10, \"\n",
      "\", Train Loss: 1.7719, Train Accuracy : 0.2847, \"\n",
      "\" , Val Loss: 1.7765, Val Accuracy : 0.2725\n"
     ]
    },
    {
     "name": "stderr",
     "output_type": "stream",
     "text": [
      "Traitement en cours:  60%|██████    | 6/10 [08:02<05:35, 83.97s/it]"
     ]
    },
    {
     "name": "stdout",
     "output_type": "stream",
     "text": [
      "Epoch 6/10, \"\n",
      "\", Train Loss: 1.7726, Train Accuracy : 0.2845, \"\n",
      "\" , Val Loss: 1.7784, Val Accuracy : 0.2870\n"
     ]
    },
    {
     "name": "stderr",
     "output_type": "stream",
     "text": [
      "Traitement en cours:  70%|███████   | 7/10 [09:26<04:11, 83.99s/it]"
     ]
    },
    {
     "name": "stdout",
     "output_type": "stream",
     "text": [
      "Epoch 7/10, \"\n",
      "\", Train Loss: 1.7814, Train Accuracy : 0.2773, \"\n",
      "\" , Val Loss: 1.7868, Val Accuracy : 0.2670\n"
     ]
    },
    {
     "name": "stderr",
     "output_type": "stream",
     "text": [
      "Traitement en cours:  80%|████████  | 8/10 [10:57<02:52, 86.25s/it]"
     ]
    },
    {
     "name": "stdout",
     "output_type": "stream",
     "text": [
      "Epoch 8/10, \"\n",
      "\", Train Loss: 1.7924, Train Accuracy : 0.2680, \"\n",
      "\" , Val Loss: 1.8085, Val Accuracy : 0.2500\n"
     ]
    },
    {
     "name": "stderr",
     "output_type": "stream",
     "text": [
      "Traitement en cours:  90%|█████████ | 9/10 [12:33<01:29, 89.12s/it]"
     ]
    },
    {
     "name": "stdout",
     "output_type": "stream",
     "text": [
      "Epoch 9/10, \"\n",
      "\", Train Loss: 1.8050, Train Accuracy : 0.2576, \"\n",
      "\" , Val Loss: 1.8107, Val Accuracy : 0.2467\n"
     ]
    },
    {
     "name": "stderr",
     "output_type": "stream",
     "text": [
      "Traitement en cours: 100%|██████████| 10/10 [13:56<00:00, 83.68s/it]"
     ]
    },
    {
     "name": "stdout",
     "output_type": "stream",
     "text": [
      "Epoch 10/10, \"\n",
      "\", Train Loss: 1.8095, Train Accuracy : 0.2545, \"\n",
      "\" , Val Loss: 1.8093, Val Accuracy : 0.2467\n"
     ]
    },
    {
     "name": "stderr",
     "output_type": "stream",
     "text": [
      "\n"
     ]
    }
   ],
   "source": [
    "######################################### -----------------------ENTRAINEMENT NORMAL---------------------##########################\"\"\n",
    "from tqdm import tqdm\n",
    "\n",
    "input_dim = X.shape[1] # number of input features\n",
    "hidden_dim = 64 # number of neurons in the hidden layer\n",
    "output_dim = len(set(y)) # number of output classes\n",
    "lr= 0.01\n",
    "dropout = 0.5\n",
    "batch_size = 32\n",
    "\n",
    "from sklearn.model_selection import train_test_split\n",
    "\n",
    "# Diviser les données en ensembles d'entraînement et de test\n",
    "X_train, X_val, y_train, y_val = train_test_split(X, y, test_size=0.2, random_state=42)\n",
    "\n",
    "X_train = torch.tensor(X_train.reshape(-1, 2304), dtype=torch.float32) # flatten last three dimensions\n",
    "X_val = torch.tensor(X_val.reshape(-1, 2304), dtype=torch.float32) # flatten last three dimensions\n",
    "\n",
    "\n",
    "y_train = np.argmax(y_train, axis=1)\n",
    "y_val = np.argmax(y_val, axis=1)\n",
    "y_train = torch.tensor(y_train, dtype=torch.long)\n",
    "y_val = torch.tensor(y_val, dtype=torch.long)\n",
    "\n",
    "\n",
    "# PAS NECESSAIRE\n",
    "# train_dataset = torch.utils.data.TensorDataset(X_train, y_train)\n",
    "# val_dataset = torch.utils.data.TensorDataset(X_val, y_val)\n",
    "# train_loader = DataLoader(train_dataset, batch_size=batch_size, shuffle=True, drop_last=True)\n",
    "# val_loader = DataLoader(val_dataset, batch_size=batch_size, shuffle=False, drop_last=True)\n",
    "\n",
    "# Entraîner le modèle\n",
    "model = EmotionRecognitionModel(input_dim=X_train.shape[1], hidden_dim=hidden_dim, output_dim=output_dim, dropout=0.2)\n",
    "criterion = nn.CrossEntropyLoss()\n",
    "optimizer = optim.SGD(model.parameters(), lr=lr, weight_decay=l2_reg)\n",
    "\n",
    "train_loss_history, train_acc_history, val_loss_history, val_acc_history = fit(model, X_train, y_train, X_val=X_val, y_val=y_val, epochs=10, batch_size=batch_size, lr=lr, verbose=True)"
   ]
  },
  {
   "cell_type": "code",
   "execution_count": 13,
   "id": "a6c15a60",
   "metadata": {},
   "outputs": [
    {
     "name": "stdout",
     "output_type": "stream",
     "text": [
      "Taille de l'ensemble d'entraînement: 28709\n",
      "Taille de l'ensemble de validation: 7178\n"
     ]
    },
    {
     "data": {
      "image/png": "[encoded data removed]",
      "text/plain": [
       "<Figure size 640x480 with 1 Axes>"
      ]
     },
     "metadata": {},
     "output_type": "display_data"
    },
    {
     "data": {
      "image/png": "[encoded data removed]",
      "text/plain": [
       "<Figure size 640x480 with 1 Axes>"
      ]
     },
     "metadata": {},
     "output_type": "display_data"
    }
   ],
   "source": [
    "import matplotlib.pyplot as plt\n",
    "\n",
    "\n",
    "print('Taille de l\\'ensemble d\\'entraînement:', len(X_train))\n",
    "print('Taille de l\\'ensemble de validation:', len(X_val))\n",
    "\n",
    "# Tracer la courbe de perte\n",
    "plt.plot(train_loss_history, label='Train Loss')\n",
    "plt.plot(val_loss_history, label='Val Loss')\n",
    "plt.legend()\n",
    "plt.title('Loss')\n",
    "plt.xlabel('Epoch')\n",
    "plt.ylabel('Loss')\n",
    "plt.show()\n",
    "\n",
    "# Tracer la courbe d'accuracy\n",
    "plt.plot(train_acc_history, label='Train Accuracy')\n",
    "plt.plot(val_acc_history, label='Val Accuracy')\n",
    "plt.legend()\n",
    "plt.title('Accuracy')\n",
    "plt.xlabel('Epoch')\n",
    "plt.ylabel('Accuracy')\n",
    "plt.show()"
   ]
  },
  {
   "attachments": {},
   "cell_type": "markdown",
   "id": "c75b448d",
   "metadata": {},
   "source": [
    "On recherche les hyperparametre grace a la librairie optuna"
   ]
  },
  {
   "cell_type": "code",
   "execution_count": 15,
   "id": "e827664b",
   "metadata": {},
   "outputs": [
    {
     "name": "stderr",
     "output_type": "stream",
     "text": [
      "c:\\Users\\Utilisateur\\AppData\\Local\\Programs\\Python\\Python311\\Lib\\site-packages\\tqdm\\auto.py:21: TqdmWarning: IProgress not found. Please update jupyter and ipywidgets. See https://ipywidgets.readthedocs.io/en/stable/user_install.html\n",
      "  from .autonotebook import tqdm as notebook_tqdm\n"
     ]
    }
   ],
   "source": [
    "import optuna\n",
    "from optuna import Trial\n",
    "\n",
    "\n",
    "# A VOIR COMMENT FONCTIONNE OPTUNA EN DETAIL \n",
    "\n",
    "\n",
    "# Convertir les étiquettes en vecteurs one-hot\n",
    "y_train = np.eye(7)[y_train]\n",
    "y_val = np.eye(7)[y_val]\n",
    "\n",
    "# Convertir les vecteurs one-hot en entiers\n",
    "y_train = np.argmax(y_train, axis=1)\n",
    "y_val = np.argmax(y_val, axis=1)\n",
    "\n",
    "y_train = torch.tensor(y_train, dtype=torch.long)\n",
    "y_val = torch.tensor(y_val, dtype=torch.long)\n",
    "\n",
    "\n",
    "# Définir la fonction objectif à minimiser\n",
    "def objective(trial: Trial, X_train, y_train, X_val, y_val):\n",
    "    lr = trial.suggest_loguniform('lr', 1e-5, 1e-1)\n",
    "    l2_reg = trial.suggest_loguniform('l2_reg', 1e-10, 1e-3)\n",
    "    batch_size = trial.suggest_categorical('batch_size', [16, 32, 64])\n",
    "    hidden_size = trial.suggest_categorical('hidden_size', [64, 128, 256])\n",
    "\n",
    "    # Entraîner le modèle avec les hyperparamètres suggérés par Optuna\n",
    "    model = EmotionRecognitionModel(input_dim=X_train.shape[1], hidden_dim=hidden_size, output_dim=output_dim, dropout=0.2)\n",
    "    criterion = nn.CrossEntropyLoss()\n",
    "    optimizer = optim.SGD(model.parameters(), lr=lr, weight_decay=l2_reg)\n",
    "    \n",
    "    train_loss_history, train_acc_history, val_loss_history, val_acc_history = fit(model, X_train, y_train, X_val=X_val, y_val=y_val, epochs=10, batch_size=batch_size, lr=lr, verbose=True)\n",
    "\n",
    "\n",
    "study = optuna.create_study()\n",
    "lr, l2_reg, batch_size, hidden_size = study.optimize(objective(X_train, y_train, X_val, y_val), n_trials=10)\n",
    "\n",
    "\n",
    "    "
   ]
  },
  {
   "attachments": {},
   "cell_type": "markdown",
   "id": "38fe4d21",
   "metadata": {},
   "source": [
    "On entraine le modele avec les meilleurs hyperparametres tourvé"
   ]
  },
  {
   "cell_type": "code",
   "execution_count": null,
   "id": "38776308",
   "metadata": {},
   "outputs": [],
   "source": [
    "model = EmotionRecognitionModel(input_dim=X_train.shape[1], hidden_dim=hidden_dim, output_dim=output_dim, dropout=0.2)\n",
    "criterion = nn.CrossEntropyLoss()\n",
    "optimizer = optim.SGD(model.parameters(), lr=lr, weight_decay=l2_reg)\n",
    "\n",
    "train_loss_history_hp, train_acc_history_hp, val_loss_history_hp, val_acc_history_hp = fit(model, X_train, y_train, X_val=X_val, y_val=y_val, epochs=10, batch_size=batch_size, lr=lr, verbose=True)\n",
    " "
   ]
  },
  {
   "attachments": {},
   "cell_type": "markdown",
   "id": "45fc023f",
   "metadata": {},
   "source": [
    "Comparaison des modele sur le set de validation"
   ]
  },
  {
   "cell_type": "code",
   "execution_count": null,
   "id": "73b760e0",
   "metadata": {},
   "outputs": [],
   "source": [
    "# Tracer la courbe de perte\n",
    "plt.plot(val_loss_history_hp, label='HP Val loss')\n",
    "plt.plot(val_loss_history, label='Val Loss')\n",
    "plt.legend()\n",
    "plt.title('Loss')\n",
    "plt.xlabel('Epoch')\n",
    "plt.ylabel('Loss')\n",
    "plt.show()\n",
    "\n",
    "# Tracer la courbe d'accuracy\n",
    "plt.plot(val_acc_history_hp, label='HP Val Accuracy')\n",
    "plt.plot(val_acc_history, label='Val Accuracy')\n",
    "plt.legend()\n",
    "plt.title('Accuracy')\n",
    "plt.xlabel('Epoch')\n",
    "plt.ylabel('Accuracy')\n",
    "plt.show()\n"
   ]
  }
 ],
 "metadata": {
  "kernelspec": {
   "display_name": "Python 3",
   "language": "python",
   "name": "python3"
  },
  "language_info": {
   "codemirror_mode": {
    "name": "ipython",
    "version": 3
   },
   "file_extension": ".py",
   "mimetype": "text/x-python",
   "name": "python",
   "nbconvert_exporter": "python",
   "pygments_lexer": "ipython3",
   "version": "3.11.3"
  }
 },
 "nbformat": 4,
 "nbformat_minor": 5
}
