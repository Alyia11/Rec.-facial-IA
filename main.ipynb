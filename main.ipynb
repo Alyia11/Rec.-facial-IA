{
 "cells": [
  {
   "cell_type": "code",
   "execution_count": 1,
   "metadata": {},
   "outputs": [
    {
     "name": "stderr",
     "output_type": "stream",
     "text": [
      "c:\\Users\\Utilisateur\\AppData\\Local\\Programs\\Python\\Python311\\Lib\\site-packages\\tqdm\\auto.py:21: TqdmWarning: IProgress not found. Please update jupyter and ipywidgets. See https://ipywidgets.readthedocs.io/en/stable/user_install.html\n",
      "  from .autonotebook import tqdm as notebook_tqdm\n"
     ]
    }
   ],
   "source": [
    "import torch\n",
    "import torch.nn as nn\n",
    "import torch.optim as optim\n",
    "import torch.nn.functional as F\n",
    "import pandas as pd\n",
    "import numpy as np\n",
    "import matplotlib.pyplot as plt\n",
    "import csv\n",
    "from tqdm import tqdm\n",
    "from datetime import datetime\n",
    "from os import path\n",
    "import os\n",
    "import sklearn\n",
    "from torch.utils.data import DataLoader, TensorDataset, random_split\n",
    "from sklearn.model_selection import train_test_split\n",
    "from sklearn.model_selection import KFold, ParameterGrid\n",
    "from sklearn.metrics import accuracy_score\n",
    "from sklearn.metrics import confusion_matrix\n",
    "from sklearn.model_selection import GridSearchCV\n",
    "from tqdm import tqdm\n",
    "import matplotlib.pyplot as plt\n",
    "from sklearn.model_selection import train_test_split\n",
    "import optuna\n",
    "from optuna import Trial\n",
    "\n",
    "\n",
    "# PAS NECESSAIRE\n",
    "# train_dataset = torch.utils.data.TensorDataset(X_train, y_train)\n",
    "# val_dataset = torch.utils.data.TensorDataset(X_val, y_val)\n",
    "# train_loader = DataLoader(train_dataset, batch_size=batch_size, shuffle=True, drop_last=True)\n",
    "# val_loader = DataLoader(val_dataset, batch_size=batch_size, shuffle=False, drop_last=True)"
   ]
  },
  {
   "cell_type": "code",
   "execution_count": 8,
   "id": "a8ca0c90",
   "metadata": {},
   "outputs": [],
   "source": [
    "# Créez une instance de modèle\n",
    "class EmotionRecognitionModel(nn.Module):\n",
    "    def __init__(self, input_dim, hidden_dim, output_dim, dropout):\n",
    "        super(EmotionRecognitionModel, self).__init__()\n",
    "        self.input_dim = input_dim\n",
    "        self.hidden_dim = hidden_dim\n",
    "        self.output_dim = output_dim\n",
    "        self.input_layer = nn.Linear(input_dim, hidden_dim)\n",
    "        self.hidden_layer = nn.Linear(hidden_dim, output_dim)\n",
    "        self.dropout = nn.Dropout(dropout)\n",
    "        \n",
    "    \n",
    "    def forward(self, x):\n",
    "        x = x.view(-1, self.input_dim)\n",
    "        x = self.input_layer(x)\n",
    "        x = F.relu(x)\n",
    "        x = self.dropout(x)\n",
    "        x = self.hidden_layer(x)\n",
    "        return x\n",
    "    \n",
    "def fit(model, X_train, y_train, X_val=None, y_val=None, epochs=10, batch_size=32, lr=0.01, verbose=True):\n",
    "    train_dataset = TensorDataset(X_train.reshape(-1, model.input_dim).clone().detach(), y_train.clone().detach())\n",
    "    train_loader = DataLoader(train_dataset, batch_size=batch_size, shuffle=True, drop_last=True)\n",
    "    optimizer = torch.optim.Adam(model.parameters(), lr=lr)\n",
    "    criterion = nn.CrossEntropyLoss()\n",
    "    \n",
    "    if X_val is not None and y_val is not None:\n",
    "        val_dataset = TensorDataset(X_val.reshape(-1, model.input_dim).clone().detach(), y_val.clone().detach())\n",
    "        val_loader = DataLoader(val_dataset, batch_size=batch_size, shuffle=False, drop_last=True)\n",
    "    \n",
    "    train_loss_history = []\n",
    "    val_loss_history = []\n",
    "    train_acc_history = []\n",
    "    val_acc_history = []\n",
    "    for epoch in tqdm(range(epochs), desc=\"Traitement en cours\", bar_format=\"{l_bar}{bar:10}{r_bar}\"):\n",
    "        # Training loop\n",
    "        train_loss = 0.0\n",
    "        train_acc = 0.0\n",
    "        for X_batch, y_batch in train_loader:\n",
    "            optimizer.zero_grad()\n",
    "            y_pred = model(X_batch.float())\n",
    "            loss = criterion(y_pred, y_batch)\n",
    "            loss.backward()\n",
    "            optimizer.step()\n",
    "            train_loss += loss.item()\n",
    "            train_acc += accuracy_score(y_batch, y_pred.argmax(dim=1))\n",
    "        train_loss /= len(train_loader)\n",
    "        train_acc /= len(train_loader)\n",
    "        train_loss_history.append(train_loss)\n",
    "        train_acc_history.append(train_acc)\n",
    "        \n",
    "        # Validation loop\n",
    "        if X_val is not None and y_val is not None:\n",
    "            val_loss = 0.0\n",
    "            val_acc = 0.0\n",
    "            with torch.no_grad():\n",
    "                for X_batch, y_batch in val_loader:\n",
    "                    y_pred = model(X_batch.float())\n",
    "                    loss = criterion(y_pred, y_batch)\n",
    "                    val_loss += loss.item()\n",
    "                    val_acc += accuracy_score(y_batch, y_pred.argmax(dim=1))\n",
    "                \n",
    "            val_loss /= len(val_loader)\n",
    "            val_acc /= len(val_loader)\n",
    "            val_loss_history.append(val_loss)\n",
    "            val_acc_history.append(val_acc)\n",
    "        \n",
    "        if verbose:\n",
    "            if X_val is not None and y_val is not None:\n",
    "                print(f'Epoch {epoch+1}/{epochs}, \"\\n\", Train Loss: {train_loss:.4f}, Train Accuracy : {train_acc:.4f}, \"\\n\" , Val Loss: {val_loss:.4f}, Val Accuracy : {val_acc:.4f}')\n",
    "            else:\n",
    "                print(f'Epoch {epoch+1}/{epochs}, Train Loss: {train_loss:.4f}')\n",
    "\n",
    "    \n",
    "    if X_val is not None and y_val is not None:\n",
    "        return train_loss_history, train_acc_history, val_loss_history, val_acc_history\n",
    "    else:\n",
    "        return train_loss_history, train_acc_history\n",
    "    \n",
    "def predict(model, X):\n",
    "    dataset = TensorDataset(X.clone().detach())\n",
    "    loader = DataLoader(dataset, batch_size=32, shuffle=False)\n",
    "    y_pred = []\n",
    "    with torch.no_grad():\n",
    "        for X_batch in loader:\n",
    "            batch_pred = model(X_batch.float())\n",
    "            y_pred.append(batch_pred)\n",
    "    return torch.cat(y_pred, dim=0).numpy()\n"
   ]
  },
  {
   "cell_type": "code",
   "execution_count": 10,
   "id": "12419bc4",
   "metadata": {},
   "outputs": [],
   "source": [
    "def load_data():\n",
    "    data = pd.read_csv('fer2013.csv')\n",
    "    pixels = data['pixels'].tolist()\n",
    "    width, height = 48, 48\n",
    "    faces = []\n",
    "\n",
    "    for pixel_sequence in pixels:\n",
    "        face = [int(pixel) for pixel in pixel_sequence.split(' ')]\n",
    "        face = np.asarray(face).reshape(width, height)\n",
    "        faces.append(face.astype('float32'))\n",
    "\n",
    "    faces = np.asarray(faces)\n",
    "    faces = np.expand_dims(faces, -1)\n",
    "\n",
    "    # Normalize the pixels\n",
    "    faces /= 255.0\n",
    "\n",
    "    # Emotion labels\n",
    "    emotions = pd.get_dummies(data['emotion']).values\n",
    "\n",
    "    # Convert to PyTorch tensors\n",
    "    X = torch.tensor(faces, dtype=torch.float32)\n",
    "    y = torch.tensor(emotions, dtype=torch.long)\n",
    "    return X,y\n",
    "\n",
    "X,y = load_data()\n"
   ]
  },
  {
   "cell_type": "code",
   "execution_count": 4,
   "id": "1c8ba361",
   "metadata": {},
   "outputs": [
    {
     "name": "stdout",
     "output_type": "stream",
     "text": [
      "torch.Size([35887, 48, 48, 1])\n",
      "torch.Size([28709, 2304])\n",
      "tensor([[0.0157, 0.0157, 0.0157,  ..., 0.0118, 0.0118, 0.0118],\n",
      "        [0.1176, 0.1255, 0.1608,  ..., 0.4235, 0.4549, 0.4627],\n",
      "        [0.9843, 0.9608, 0.8118,  ..., 0.2431, 0.0078, 0.0431]])\n"
     ]
    },
    {
     "name": "stderr",
     "output_type": "stream",
     "text": [
      "C:\\Users\\Utilisateur\\AppData\\Local\\Temp\\ipykernel_16768\\3407313606.py:7: UserWarning: To copy construct from a tensor, it is recommended to use sourceTensor.clone().detach() or sourceTensor.clone().detach().requires_grad_(True), rather than torch.tensor(sourceTensor).\n",
      "  X_train = torch.tensor(X_train.reshape(-1, 2304), dtype=torch.float32) # flatten last three dimensions\n",
      "C:\\Users\\Utilisateur\\AppData\\Local\\Temp\\ipykernel_16768\\3407313606.py:8: UserWarning: To copy construct from a tensor, it is recommended to use sourceTensor.clone().detach() or sourceTensor.clone().detach().requires_grad_(True), rather than torch.tensor(sourceTensor).\n",
      "  X_val = torch.tensor(X_val.reshape(-1, 2304), dtype=torch.float32) # flatten last three dimensions\n",
      "C:\\Users\\Utilisateur\\AppData\\Local\\Temp\\ipykernel_16768\\3407313606.py:12: UserWarning: To copy construct from a tensor, it is recommended to use sourceTensor.clone().detach() or sourceTensor.clone().detach().requires_grad_(True), rather than torch.tensor(sourceTensor).\n",
      "  y_train = torch.tensor(y_train, dtype=torch.long)\n",
      "C:\\Users\\Utilisateur\\AppData\\Local\\Temp\\ipykernel_16768\\3407313606.py:13: UserWarning: To copy construct from a tensor, it is recommended to use sourceTensor.clone().detach() or sourceTensor.clone().detach().requires_grad_(True), rather than torch.tensor(sourceTensor).\n",
      "  y_val = torch.tensor(y_val, dtype=torch.long)\n"
     ]
    }
   ],
   "source": [
    "print(X.shape)\n",
    "\n",
    "def split_data(X,y) :\n",
    "# Diviser les données en ensembles d'entraînement et de test\n",
    "    X_train, X_val, y_train, y_val = train_test_split(X, y, test_size=0.2, random_state=42)\n",
    "\n",
    "    X_train = torch.tensor(X_train.reshape(-1, 2304), dtype=torch.float32) # flatten last three dimensions\n",
    "    X_val = torch.tensor(X_val.reshape(-1, 2304), dtype=torch.float32) # flatten last three dimensions\n",
    "\n",
    "    y_train = np.argmax(y_train, axis=1)\n",
    "    y_val = np.argmax(y_val, axis=1)\n",
    "    y_train = torch.tensor(y_train, dtype=torch.long)\n",
    "    y_val = torch.tensor(y_val, dtype=torch.long)\n",
    "    \n",
    "    return X_train, X_val, y_train, y_val\n",
    "\n",
    "X_train, X_val, y_train, y_val = split_data(X,y)\n",
    "print(X_train.size())\n",
    "print(X_train[:3])"
   ]
  },
  {
   "cell_type": "code",
   "execution_count": 24,
   "id": "ac3a56ae",
   "metadata": {},
   "outputs": [
    {
     "name": "stderr",
     "output_type": "stream",
     "text": [
      "Traitement en cours:  10%|█         | 1/10 [00:41<06:17, 41.95s/it]"
     ]
    },
    {
     "name": "stdout",
     "output_type": "stream",
     "text": [
      "Epoch 1/10, \"\n",
      "\", Train Loss: 2.0452, Train Accuracy : 0.2487, \"\n",
      "\" , Val Loss: 1.7604, Val Accuracy : 0.3048\n"
     ]
    },
    {
     "name": "stderr",
     "output_type": "stream",
     "text": [
      "Traitement en cours:  20%|██        | 2/10 [01:34<06:27, 48.44s/it]"
     ]
    },
    {
     "name": "stdout",
     "output_type": "stream",
     "text": [
      "Epoch 2/10, \"\n",
      "\", Train Loss: 1.7445, Train Accuracy : 0.3054, \"\n",
      "\" , Val Loss: 1.7457, Val Accuracy : 0.3061\n"
     ]
    },
    {
     "name": "stderr",
     "output_type": "stream",
     "text": [
      "Traitement en cours:  30%|███       | 3/10 [02:27<05:53, 50.49s/it]"
     ]
    },
    {
     "name": "stdout",
     "output_type": "stream",
     "text": [
      "Epoch 3/10, \"\n",
      "\", Train Loss: 1.7220, Train Accuracy : 0.3204, \"\n",
      "\" , Val Loss: 1.7378, Val Accuracy : 0.3023\n"
     ]
    },
    {
     "name": "stderr",
     "output_type": "stream",
     "text": [
      "Traitement en cours:  40%|████      | 4/10 [03:22<05:11, 51.97s/it]"
     ]
    },
    {
     "name": "stdout",
     "output_type": "stream",
     "text": [
      "Epoch 4/10, \"\n",
      "\", Train Loss: 1.6987, Train Accuracy : 0.3325, \"\n",
      "\" , Val Loss: 1.7000, Val Accuracy : 0.3238\n"
     ]
    },
    {
     "name": "stderr",
     "output_type": "stream",
     "text": [
      "Traitement en cours:  50%|█████     | 5/10 [04:18<04:26, 53.39s/it]"
     ]
    },
    {
     "name": "stdout",
     "output_type": "stream",
     "text": [
      "Epoch 5/10, \"\n",
      "\", Train Loss: 1.6881, Train Accuracy : 0.3321, \"\n",
      "\" , Val Loss: 1.6940, Val Accuracy : 0.3364\n"
     ]
    },
    {
     "name": "stderr",
     "output_type": "stream",
     "text": [
      "Traitement en cours:  60%|██████    | 6/10 [05:15<03:39, 54.80s/it]"
     ]
    },
    {
     "name": "stdout",
     "output_type": "stream",
     "text": [
      "Epoch 6/10, \"\n",
      "\", Train Loss: 1.6789, Train Accuracy : 0.3401, \"\n",
      "\" , Val Loss: 1.6917, Val Accuracy : 0.3290\n"
     ]
    },
    {
     "name": "stderr",
     "output_type": "stream",
     "text": [
      "Traitement en cours:  70%|███████   | 7/10 [06:12<02:46, 55.46s/it]"
     ]
    },
    {
     "name": "stdout",
     "output_type": "stream",
     "text": [
      "Epoch 7/10, \"\n",
      "\", Train Loss: 1.6696, Train Accuracy : 0.3438, \"\n",
      "\" , Val Loss: 1.6710, Val Accuracy : 0.3369\n"
     ]
    },
    {
     "name": "stderr",
     "output_type": "stream",
     "text": [
      "Traitement en cours:  80%|████████  | 8/10 [07:10<01:52, 56.16s/it]"
     ]
    },
    {
     "name": "stdout",
     "output_type": "stream",
     "text": [
      "Epoch 8/10, \"\n",
      "\", Train Loss: 1.6609, Train Accuracy : 0.3452, \"\n",
      "\" , Val Loss: 1.6568, Val Accuracy : 0.3513\n"
     ]
    },
    {
     "name": "stderr",
     "output_type": "stream",
     "text": [
      "Traitement en cours:  90%|█████████ | 9/10 [08:10<00:57, 57.36s/it]"
     ]
    },
    {
     "name": "stdout",
     "output_type": "stream",
     "text": [
      "Epoch 9/10, \"\n",
      "\", Train Loss: 1.6495, Train Accuracy : 0.3521, \"\n",
      "\" , Val Loss: 1.6598, Val Accuracy : 0.3435\n"
     ]
    },
    {
     "name": "stderr",
     "output_type": "stream",
     "text": [
      "Traitement en cours: 100%|██████████| 10/10 [09:12<00:00, 55.21s/it]"
     ]
    },
    {
     "name": "stdout",
     "output_type": "stream",
     "text": [
      "Epoch 10/10, \"\n",
      "\", Train Loss: 1.6459, Train Accuracy : 0.3522, \"\n",
      "\" , Val Loss: 1.6693, Val Accuracy : 0.3407\n"
     ]
    },
    {
     "name": "stderr",
     "output_type": "stream",
     "text": [
      "\n"
     ]
    }
   ],
   "source": [
    "######################################### -----------------------ENTRAINEMENT NORMAL---------------------##########################\"\"\n",
    "\n",
    "\n",
    "\n",
    "def train_model(X_train, X_val, y_train, y_val, hidden_dim=64, dropout=0.2, batch_size=32, lr=0.001, l2_reg = 0.01, epochs = 10):\n",
    "    input_dim = X_train.shape[1] # number of input features\n",
    "    output_dim = len(set(y_train)) # number of output classes\n",
    "\n",
    "    # Entraîner le modèle\n",
    "    model = EmotionRecognitionModel(input_dim, hidden_dim, output_dim, dropout)\n",
    "    criterion = nn.CrossEntropyLoss()\n",
    "    optimizer = optim.SGD(model.parameters(), lr=lr, weight_decay=l2_reg)\n",
    "\n",
    "    train_loss_history, train_acc_history, val_loss_history, val_acc_history = fit(model, X_train, y_train, X_val, y_val, epochs, batch_size, lr, verbose=True)\n",
    "    \n",
    "    \n",
    "    return model, train_loss_history, train_acc_history, val_loss_history, val_acc_history\n",
    "\n",
    "\n",
    "#Call the functions\n",
    "\n",
    "\n",
    "model, train_loss_history, train_acc_history, val_loss_history, val_acc_history = train_model(X_train, X_val, y_train, y_val)"
   ]
  },
  {
   "cell_type": "code",
   "execution_count": 6,
   "id": "a6c15a60",
   "metadata": {},
   "outputs": [],
   "source": [
    "#function to plot the loss and accuracy\n",
    "def plot_loss_acc(train_loss_history, train_acc_history, val_loss_history, val_acc_history, X_train, X_val):\n",
    "    print('Taille de l\\'ensemble d\\'entraînement:', len(X_train))\n",
    "    print('Taille de l\\'ensemble de validation:', len(X_val))\n",
    "\n",
    "    # Tracer la courbe de perte\n",
    "    plt.plot(train_loss_history, label='Train Loss')\n",
    "    plt.plot(val_loss_history, label='Val Loss')\n",
    "    plt.legend()\n",
    "    plt.title('Loss')\n",
    "    plt.xlabel('Epoch')\n",
    "    plt.ylabel('Loss')\n",
    "    plt.show()\n",
    "\n",
    "    # Tracer la courbe d'accuracy\n",
    "    plt.plot(train_acc_history, label='Train Accuracy')\n",
    "    plt.plot(val_acc_history, label='Val Accuracy')\n",
    "    plt.legend()\n",
    "    plt.title('Accuracy')\n",
    "    plt.xlabel('Epoch')\n",
    "    plt.ylabel('Accuracy')\n",
    "    plt.show()"
   ]
  },
  {
   "attachments": {},
   "cell_type": "markdown",
   "id": "c75b448d",
   "metadata": {},
   "source": [
    "On recherche les hyperparametre grace a la librairie optuna"
   ]
  },
  {
   "cell_type": "code",
   "execution_count": 18,
   "id": "e827664b",
   "metadata": {},
   "outputs": [
    {
     "name": "stderr",
     "output_type": "stream",
     "text": [
      "\u001b[32m[I 2023-05-13 18:29:33,820]\u001b[0m A new study created in memory with name: no-name-08741b85-6c6c-4cd0-aaa0-ead39a28e40e\u001b[0m\n",
      "Traitement en cours:  50%|█████     | 1/2 [00:57<00:57, 57.32s/it]"
     ]
    },
    {
     "name": "stdout",
     "output_type": "stream",
     "text": [
      "Epoch 1/2, \"\n",
      "\", Train Loss: 2.6259, Train Accuracy : 0.2355, \"\n",
      "\" , Val Loss: 1.8200, Val Accuracy : 0.2461\n"
     ]
    },
    {
     "name": "stderr",
     "output_type": "stream",
     "text": [
      "Traitement en cours: 100%|██████████| 2/2 [02:19<00:00, 69.66s/it]\n",
      "\u001b[32m[I 2023-05-13 18:31:53,391]\u001b[0m Trial 0 finished with value: 0.24609375 and parameters: {'lr': 0.037206137342290474, 'dropout': 0.7773227898298568, 'l2_reg': 0.0006950754532904427, 'batch_size': 32, 'hidden_size': 64}. Best is trial 0 with value: 0.24609375.\u001b[0m\n"
     ]
    },
    {
     "name": "stdout",
     "output_type": "stream",
     "text": [
      "Epoch 2/2, \"\n",
      "\", Train Loss: 1.8192, Train Accuracy : 0.2516, \"\n",
      "\" , Val Loss: 1.8160, Val Accuracy : 0.2461\n"
     ]
    },
    {
     "name": "stderr",
     "output_type": "stream",
     "text": [
      "Traitement en cours:  50%|█████     | 1/2 [05:15<05:15, 315.24s/it]"
     ]
    },
    {
     "name": "stdout",
     "output_type": "stream",
     "text": [
      "Epoch 1/2, \"\n",
      "\", Train Loss: 2.5220, Train Accuracy : 0.2469, \"\n",
      "\" , Val Loss: 1.8200, Val Accuracy : 0.2461\n"
     ]
    },
    {
     "name": "stderr",
     "output_type": "stream",
     "text": [
      "Traitement en cours: 100%|██████████| 2/2 [11:50<00:00, 355.32s/it]\n",
      "\u001b[32m[I 2023-05-13 18:43:44,922]\u001b[0m Trial 1 finished with value: 0.24609375 and parameters: {'lr': 0.04224970134996295, 'dropout': 0.1657166047318377, 'l2_reg': 0.0006638012808774616, 'batch_size': 16, 'hidden_size': 256}. Best is trial 0 with value: 0.24609375.\u001b[0m\n"
     ]
    },
    {
     "name": "stdout",
     "output_type": "stream",
     "text": [
      "Epoch 2/2, \"\n",
      "\", Train Loss: 1.8177, Train Accuracy : 0.2507, \"\n",
      "\" , Val Loss: 1.8103, Val Accuracy : 0.2461\n"
     ]
    },
    {
     "name": "stderr",
     "output_type": "stream",
     "text": [
      "Traitement en cours:  50%|█████     | 1/2 [00:58<00:58, 58.79s/it]"
     ]
    },
    {
     "name": "stdout",
     "output_type": "stream",
     "text": [
      "Epoch 1/2, \"\n",
      "\", Train Loss: 2.3496, Train Accuracy : 0.2381, \"\n",
      "\" , Val Loss: 1.8187, Val Accuracy : 0.2462\n"
     ]
    },
    {
     "name": "stderr",
     "output_type": "stream",
     "text": [
      "Traitement en cours: 100%|██████████| 2/2 [02:14<00:00, 67.12s/it]\n",
      "\u001b[32m[I 2023-05-13 18:45:59,521]\u001b[0m Trial 2 finished with value: 0.24637276785714285 and parameters: {'lr': 0.043048123612960565, 'dropout': 0.1427030131958845, 'l2_reg': 0.0004389180926879843, 'batch_size': 32, 'hidden_size': 64}. Best is trial 2 with value: 0.24637276785714285.\u001b[0m\n"
     ]
    },
    {
     "name": "stdout",
     "output_type": "stream",
     "text": [
      "Epoch 2/2, \"\n",
      "\", Train Loss: 1.8226, Train Accuracy : 0.2507, \"\n",
      "\" , Val Loss: 1.8146, Val Accuracy : 0.2464\n"
     ]
    },
    {
     "name": "stderr",
     "output_type": "stream",
     "text": [
      "Traitement en cours:  50%|█████     | 1/2 [01:22<01:22, 82.19s/it]"
     ]
    },
    {
     "name": "stdout",
     "output_type": "stream",
     "text": [
      "Epoch 1/2, \"\n",
      "\", Train Loss: 2.6376, Train Accuracy : 0.2426, \"\n",
      "\" , Val Loss: 1.8147, Val Accuracy : 0.2461\n"
     ]
    },
    {
     "name": "stderr",
     "output_type": "stream",
     "text": [
      "Traitement en cours: 100%|██████████| 2/2 [03:22<00:00, 101.22s/it]\n",
      "\u001b[32m[I 2023-05-13 18:49:22,331]\u001b[0m Trial 3 finished with value: 0.24609375 and parameters: {'lr': 0.05018470129815336, 'dropout': 0.595671459013061, 'l2_reg': 0.0002151545698466022, 'batch_size': 32, 'hidden_size': 128}. Best is trial 2 with value: 0.24637276785714285.\u001b[0m\n"
     ]
    },
    {
     "name": "stdout",
     "output_type": "stream",
     "text": [
      "Epoch 2/2, \"\n",
      "\", Train Loss: 1.8588, Train Accuracy : 0.2516, \"\n",
      "\" , Val Loss: 1.8193, Val Accuracy : 0.2461\n"
     ]
    },
    {
     "name": "stderr",
     "output_type": "stream",
     "text": [
      "Traitement en cours:  50%|█████     | 1/2 [05:05<05:05, 305.67s/it]"
     ]
    },
    {
     "name": "stdout",
     "output_type": "stream",
     "text": [
      "Epoch 1/2, \"\n",
      "\", Train Loss: 2.7403, Train Accuracy : 0.2433, \"\n",
      "\" , Val Loss: 1.8269, Val Accuracy : 0.2465\n"
     ]
    },
    {
     "name": "stderr",
     "output_type": "stream",
     "text": [
      "Traitement en cours: 100%|██████████| 2/2 [11:36<00:00, 348.14s/it]\n",
      "\u001b[32m[I 2023-05-13 19:00:58,956]\u001b[0m Trial 4 finished with value: 0.24623325892857142 and parameters: {'lr': 0.07661431110660977, 'dropout': 0.15449758578926634, 'l2_reg': 0.0009080760235411924, 'batch_size': 16, 'hidden_size': 256}. Best is trial 2 with value: 0.24637276785714285.\u001b[0m\n"
     ]
    },
    {
     "name": "stdout",
     "output_type": "stream",
     "text": [
      "Epoch 2/2, \"\n",
      "\", Train Loss: 1.8362, Train Accuracy : 0.2452, \"\n",
      "\" , Val Loss: 1.8135, Val Accuracy : 0.2462\n"
     ]
    },
    {
     "name": "stderr",
     "output_type": "stream",
     "text": [
      "Traitement en cours:  50%|█████     | 1/2 [04:55<04:55, 295.68s/it]"
     ]
    },
    {
     "name": "stdout",
     "output_type": "stream",
     "text": [
      "Epoch 1/2, \"\n",
      "\", Train Loss: 3.1871, Train Accuracy : 0.2426, \"\n",
      "\" , Val Loss: 1.8130, Val Accuracy : 0.2461\n"
     ]
    },
    {
     "name": "stderr",
     "output_type": "stream",
     "text": [
      "Traitement en cours: 100%|██████████| 2/2 [11:16<00:00, 338.47s/it]\n",
      "\u001b[32m[I 2023-05-13 19:12:16,239]\u001b[0m Trial 5 finished with value: 0.17815290178571427 and parameters: {'lr': 0.0766444711095588, 'dropout': 0.16921987872314084, 'l2_reg': 0.000636231928143622, 'batch_size': 16, 'hidden_size': 256}. Best is trial 2 with value: 0.24637276785714285.\u001b[0m\n"
     ]
    },
    {
     "name": "stdout",
     "output_type": "stream",
     "text": [
      "Epoch 2/2, \"\n",
      "\", Train Loss: 1.8214, Train Accuracy : 0.2483, \"\n",
      "\" , Val Loss: 1.8302, Val Accuracy : 0.1782\n"
     ]
    },
    {
     "name": "stderr",
     "output_type": "stream",
     "text": [
      "Traitement en cours:  50%|█████     | 1/2 [01:04<01:04, 64.02s/it]"
     ]
    },
    {
     "name": "stdout",
     "output_type": "stream",
     "text": [
      "Epoch 1/2, \"\n",
      "\", Train Loss: 4.6289, Train Accuracy : 0.2422, \"\n",
      "\" , Val Loss: 1.8240, Val Accuracy : 0.2468\n"
     ]
    },
    {
     "name": "stderr",
     "output_type": "stream",
     "text": [
      "Traitement en cours: 100%|██████████| 2/2 [02:39<00:00, 79.98s/it]\n",
      "\u001b[32m[I 2023-05-13 19:14:56,712]\u001b[0m Trial 6 finished with value: 0.24637276785714285 and parameters: {'lr': 0.057048405965108635, 'dropout': 0.2920213633824805, 'l2_reg': 0.0009534151226569486, 'batch_size': 64, 'hidden_size': 256}. Best is trial 2 with value: 0.24637276785714285.\u001b[0m\n"
     ]
    },
    {
     "name": "stdout",
     "output_type": "stream",
     "text": [
      "Epoch 2/2, \"\n",
      "\", Train Loss: 1.8157, Train Accuracy : 0.2623, \"\n",
      "\" , Val Loss: 1.8189, Val Accuracy : 0.2464\n"
     ]
    },
    {
     "name": "stderr",
     "output_type": "stream",
     "text": [
      "Traitement en cours:  50%|█████     | 1/2 [01:00<01:00, 60.18s/it]"
     ]
    },
    {
     "name": "stdout",
     "output_type": "stream",
     "text": [
      "Epoch 1/2, \"\n",
      "\", Train Loss: 6.7664, Train Accuracy : 0.2319, \"\n",
      "\" , Val Loss: 1.8242, Val Accuracy : 0.2462\n"
     ]
    },
    {
     "name": "stderr",
     "output_type": "stream",
     "text": [
      "Traitement en cours: 100%|██████████| 2/2 [02:34<00:00, 77.48s/it]\n",
      "\u001b[32m[I 2023-05-13 19:17:32,019]\u001b[0m Trial 7 finished with value: 0.24651227678571427 and parameters: {'lr': 0.07696684998254275, 'dropout': 0.20880981332634682, 'l2_reg': 0.0002003618893371502, 'batch_size': 64, 'hidden_size': 256}. Best is trial 7 with value: 0.24651227678571427.\u001b[0m\n"
     ]
    },
    {
     "name": "stdout",
     "output_type": "stream",
     "text": [
      "Epoch 2/2, \"\n",
      "\", Train Loss: 1.8194, Train Accuracy : 0.2516, \"\n",
      "\" , Val Loss: 1.8157, Val Accuracy : 0.2465\n"
     ]
    },
    {
     "name": "stderr",
     "output_type": "stream",
     "text": [
      "Traitement en cours:  50%|█████     | 1/2 [04:54<04:54, 294.10s/it]"
     ]
    },
    {
     "name": "stdout",
     "output_type": "stream",
     "text": [
      "Epoch 1/2, \"\n",
      "\", Train Loss: 4.3998, Train Accuracy : 0.2394, \"\n",
      "\" , Val Loss: 1.8187, Val Accuracy : 0.2461\n"
     ]
    },
    {
     "name": "stderr",
     "output_type": "stream",
     "text": [
      "Traitement en cours: 100%|██████████| 2/2 [11:07<00:00, 333.65s/it]\n",
      "\u001b[32m[I 2023-05-13 19:28:39,681]\u001b[0m Trial 8 finished with value: 0.24609375 and parameters: {'lr': 0.09281842723218862, 'dropout': 0.7144024924526874, 'l2_reg': 0.0008458838062856055, 'batch_size': 16, 'hidden_size': 256}. Best is trial 7 with value: 0.24651227678571427.\u001b[0m\n"
     ]
    },
    {
     "name": "stdout",
     "output_type": "stream",
     "text": [
      "Epoch 2/2, \"\n",
      "\", Train Loss: 1.8346, Train Accuracy : 0.2437, \"\n",
      "\" , Val Loss: 1.8250, Val Accuracy : 0.2461\n"
     ]
    },
    {
     "name": "stderr",
     "output_type": "stream",
     "text": [
      "Traitement en cours:  50%|█████     | 1/2 [02:51<02:51, 171.19s/it]"
     ]
    },
    {
     "name": "stdout",
     "output_type": "stream",
     "text": [
      "Epoch 1/2, \"\n",
      "\", Train Loss: 2.5663, Train Accuracy : 0.2423, \"\n",
      "\" , Val Loss: 1.8224, Val Accuracy : 0.2461\n"
     ]
    },
    {
     "name": "stderr",
     "output_type": "stream",
     "text": [
      "Traitement en cours: 100%|██████████| 2/2 [06:30<00:00, 195.16s/it]\n",
      "\u001b[32m[I 2023-05-13 19:35:10,320]\u001b[0m Trial 9 finished with value: 0.24609375 and parameters: {'lr': 0.09879159934510032, 'dropout': 0.6184747216193767, 'l2_reg': 0.0007830947350189321, 'batch_size': 16, 'hidden_size': 128}. Best is trial 7 with value: 0.24651227678571427.\u001b[0m\n"
     ]
    },
    {
     "name": "stdout",
     "output_type": "stream",
     "text": [
      "Epoch 2/2, \"\n",
      "\", Train Loss: 1.8255, Train Accuracy : 0.2425, \"\n",
      "\" , Val Loss: 1.8129, Val Accuracy : 0.2461\n",
      "Accuracy: 0.24651227678571427\n",
      "Best hyperparameters: {'lr': 0.07696684998254275, 'dropout': 0.20880981332634682, 'l2_reg': 0.0002003618893371502, 'batch_size': 64, 'hidden_size': 256}\n"
     ]
    }
   ],
   "source": [
    "# Convertir les étiquettes en vecteurs one-hot\n",
    "#modify data to vectors one-hot in a function \n",
    "def modify_data(X_train, X_val, y_train, y_val):\n",
    "    y_train = np.eye(7)[y_train]\n",
    "    y_val = np.eye(7)[y_val]\n",
    "\n",
    "    # Convertir les vecteurs one-hot en entiers\n",
    "    y_train = np.argmax(y_train, axis=1)\n",
    "    y_val = np.argmax(y_val, axis=1)\n",
    "\n",
    "    y_train = torch.tensor(y_train, dtype=torch.long)\n",
    "    y_val = torch.tensor(y_val, dtype=torch.long)\n",
    "    \n",
    "    return X_train, X_val, y_train, y_val\n",
    "\n",
    "\n",
    "# Définir la fonction objectif à minimiser\n",
    "def objective(trial, X_train, X_val, y_train, y_val):\n",
    "    lr = trial.suggest_float('lr', 1e-5, 1e-1)\n",
    "    dropout = trial.suggest_float('dropout', 1e-3, 0.8)\n",
    "    l2_reg = trial.suggest_float('l2_reg', 1e-10, 1e-3)\n",
    "    batch_size = trial.suggest_categorical('batch_size', [16, 32, 64])\n",
    "    hidden_dim = trial.suggest_categorical('hidden_size', [64, 128, 256])\n",
    "\n",
    "    # Convertir les étiquettes en vecteurs one-hot\n",
    "    X_train, X_val, y_train, y_val = modify_data(X_train, X_val, y_train, y_val)\n",
    "    \n",
    "    input_dim = X_train.shape[1] # number of input features\n",
    "    output_dim = len(set(y_train)) # number of output classes\n",
    "    epochs = 2\n",
    "    \n",
    "    # Entraîner le modèle\n",
    "    model = EmotionRecognitionModel(input_dim, hidden_dim, output_dim, dropout)\n",
    "    criterion = nn.CrossEntropyLoss()\n",
    "    optimizer = optim.SGD(model.parameters(), lr=lr, weight_decay=l2_reg)\n",
    "\n",
    "    train_loss_history, train_acc_history, val_loss_history, val_acc_history = fit(model, X_train, y_train, X_val, y_val, epochs, batch_size,lr, verbose=True)\n",
    "    \n",
    "    return val_acc_history[-1]\n",
    "    \n",
    "\n",
    "func = lambda trial: objective(trial, X_train, X_val, y_train, y_val)\n",
    "\n",
    "study = optuna.create_study(direction = \"maximize\")\n",
    "study.optimize(func, n_trials=10)\n",
    "\n",
    "trial = study.best_trial\n",
    "#print accuracy and best parameters\n",
    "print('Accuracy: {}'.format(trial.value))\n",
    "print(\"Best hyperparameters: {}\".format(trial.params))\n",
    "    "
   ]
  },
  {
   "attachments": {},
   "cell_type": "markdown",
   "id": "38fe4d21",
   "metadata": {},
   "source": [
    "On entraine le modele avec les meilleurs hyperparametres tourvé"
   ]
  },
  {
   "cell_type": "code",
   "execution_count": 25,
   "id": "38776308",
   "metadata": {},
   "outputs": [
    {
     "name": "stderr",
     "output_type": "stream",
     "text": [
      "Traitement en cours:  10%|█         | 1/10 [00:56<08:25, 56.12s/it]"
     ]
    },
    {
     "name": "stdout",
     "output_type": "stream",
     "text": [
      "Epoch 1/10, \"\n",
      "\", Train Loss: 7.3932, Train Accuracy : 0.2484, \"\n",
      "\" , Val Loss: 1.8211, Val Accuracy : 0.2461\n"
     ]
    },
    {
     "name": "stderr",
     "output_type": "stream",
     "text": [
      "Traitement en cours:  20%|██        | 2/10 [02:27<10:15, 76.90s/it]"
     ]
    },
    {
     "name": "stdout",
     "output_type": "stream",
     "text": [
      "Epoch 2/10, \"\n",
      "\", Train Loss: 1.8203, Train Accuracy : 0.2517, \"\n",
      "\" , Val Loss: 1.8192, Val Accuracy : 0.2462\n"
     ]
    },
    {
     "name": "stderr",
     "output_type": "stream",
     "text": [
      "Traitement en cours:  30%|███       | 3/10 [04:23<11:04, 94.92s/it]"
     ]
    },
    {
     "name": "stdout",
     "output_type": "stream",
     "text": [
      "Epoch 3/10, \"\n",
      "\", Train Loss: 1.8169, Train Accuracy : 0.2517, \"\n",
      "\" , Val Loss: 1.8153, Val Accuracy : 0.2464\n"
     ]
    },
    {
     "name": "stderr",
     "output_type": "stream",
     "text": [
      "Traitement en cours:  40%|████      | 4/10 [06:22<10:25, 104.21s/it]"
     ]
    },
    {
     "name": "stdout",
     "output_type": "stream",
     "text": [
      "Epoch 4/10, \"\n",
      "\", Train Loss: 1.8166, Train Accuracy : 0.2516, \"\n",
      "\" , Val Loss: 1.8240, Val Accuracy : 0.2461\n"
     ]
    },
    {
     "name": "stderr",
     "output_type": "stream",
     "text": [
      "Traitement en cours:  50%|█████     | 5/10 [08:20<09:05, 109.20s/it]"
     ]
    },
    {
     "name": "stdout",
     "output_type": "stream",
     "text": [
      "Epoch 5/10, \"\n",
      "\", Train Loss: 1.8164, Train Accuracy : 0.2515, \"\n",
      "\" , Val Loss: 1.8128, Val Accuracy : 0.2461\n"
     ]
    },
    {
     "name": "stderr",
     "output_type": "stream",
     "text": [
      "Traitement en cours:  60%|██████    | 6/10 [10:19<07:30, 112.69s/it]"
     ]
    },
    {
     "name": "stdout",
     "output_type": "stream",
     "text": [
      "Epoch 6/10, \"\n",
      "\", Train Loss: 1.8159, Train Accuracy : 0.2517, \"\n",
      "\" , Val Loss: 1.8121, Val Accuracy : 0.2461\n"
     ]
    },
    {
     "name": "stderr",
     "output_type": "stream",
     "text": [
      "Traitement en cours:  70%|███████   | 7/10 [12:19<05:45, 115.07s/it]"
     ]
    },
    {
     "name": "stdout",
     "output_type": "stream",
     "text": [
      "Epoch 7/10, \"\n",
      "\", Train Loss: 1.8166, Train Accuracy : 0.2513, \"\n",
      "\" , Val Loss: 1.8180, Val Accuracy : 0.2461\n"
     ]
    },
    {
     "name": "stderr",
     "output_type": "stream",
     "text": [
      "Traitement en cours:  80%|████████  | 8/10 [14:19<03:52, 116.47s/it]"
     ]
    },
    {
     "name": "stdout",
     "output_type": "stream",
     "text": [
      "Epoch 8/10, \"\n",
      "\", Train Loss: 1.8160, Train Accuracy : 0.2497, \"\n",
      "\" , Val Loss: 1.8115, Val Accuracy : 0.2461\n"
     ]
    },
    {
     "name": "stderr",
     "output_type": "stream",
     "text": [
      "Traitement en cours:  90%|█████████ | 9/10 [16:23<01:58, 118.87s/it]"
     ]
    },
    {
     "name": "stdout",
     "output_type": "stream",
     "text": [
      "Epoch 9/10, \"\n",
      "\", Train Loss: 1.8164, Train Accuracy : 0.2509, \"\n",
      "\" , Val Loss: 1.8122, Val Accuracy : 0.2461\n"
     ]
    },
    {
     "name": "stderr",
     "output_type": "stream",
     "text": [
      "Traitement en cours: 100%|██████████| 10/10 [18:28<00:00, 110.80s/it]"
     ]
    },
    {
     "name": "stdout",
     "output_type": "stream",
     "text": [
      "Epoch 10/10, \"\n",
      "\", Train Loss: 1.8163, Train Accuracy : 0.2517, \"\n",
      "\" , Val Loss: 1.8147, Val Accuracy : 0.2461\n"
     ]
    },
    {
     "name": "stderr",
     "output_type": "stream",
     "text": [
      "\n"
     ]
    }
   ],
   "source": [
    "#get each parameter from the best trial\n",
    "lr = trial.params['lr']\n",
    "dropout = trial.params['dropout']\n",
    "l2_reg = trial.params['l2_reg']\n",
    "batch_size = trial.params['batch_size']\n",
    "hidden_dim = trial.params['hidden_size']\n",
    "\n",
    "#train the model with the best parameters\n",
    "model, train_loss_history_hp, train_acc_history_hp, val_loss_history_hp, val_acc_history_hp = train_model(X_train, X_val, y_train, y_val, hidden_dim, dropout, batch_size, lr, l2_reg, epochs = 10)\n",
    " "
   ]
  },
  {
   "attachments": {},
   "cell_type": "markdown",
   "id": "45fc023f",
   "metadata": {},
   "source": [
    "Comparaison des modele sur le set de validation"
   ]
  },
  {
   "cell_type": "code",
   "execution_count": 26,
   "id": "73b760e0",
   "metadata": {},
   "outputs": [
    {
     "data": {
      "image/png": "[encoded data removed]",
      "text/plain": [
       "<Figure size 640x480 with 1 Axes>"
      ]
     },
     "metadata": {},
     "output_type": "display_data"
    },
    {
     "data": {
      "image/png": "[encoded data removed]",
      "text/plain": [
       "<Figure size 640x480 with 1 Axes>"
      ]
     },
     "metadata": {},
     "output_type": "display_data"
    }
   ],
   "source": [
    "# Tracer la courbe de perte\n",
    "plt.plot(val_loss_history_hp, label='HP Val loss')\n",
    "plt.plot(val_loss_history, label='Val Loss')\n",
    "plt.legend()\n",
    "plt.title('Loss')\n",
    "plt.xlabel('Epoch')\n",
    "plt.ylabel('Loss')\n",
    "plt.show()\n",
    "\n",
    "# Tracer la courbe d'accuracy\n",
    "plt.plot(val_acc_history_hp, label='HP Val Accuracy')\n",
    "plt.plot(val_acc_history, label='Val Accuracy')\n",
    "plt.legend()\n",
    "plt.title('Accuracy')\n",
    "plt.xlabel('Epoch')\n",
    "plt.ylabel('Accuracy')\n",
    "plt.show()\n"
   ]
  }
 ],
 "metadata": {
  "kernelspec": {
   "display_name": "Python 3",
   "language": "python",
   "name": "python3"
  },
  "language_info": {
   "codemirror_mode": {
    "name": "ipython",
    "version": 3
   },
   "file_extension": ".py",
   "mimetype": "text/x-python",
   "name": "python",
   "nbconvert_exporter": "python",
   "pygments_lexer": "ipython3",
   "version": "3.11.3"
  }
 },
 "nbformat": 4,
 "nbformat_minor": 5
}
